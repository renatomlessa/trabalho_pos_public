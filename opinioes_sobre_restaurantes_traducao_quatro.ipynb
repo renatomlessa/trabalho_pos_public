{
  "nbformat": 4,
  "nbformat_minor": 0,
  "metadata": {
    "colab": {
      "name": "opinioes_sobre_restaurantes_traducao_quatro.ipynb",
      "provenance": [],
      "collapsed_sections": [],
      "include_colab_link": true
    },
    "kernelspec": {
      "name": "python3",
      "display_name": "Python 3"
    }
  },
  "cells": [
    {
      "cell_type": "markdown",
      "metadata": {
        "id": "view-in-github",
        "colab_type": "text"
      },
      "source": [
        "<a href=\"https://colab.research.google.com/github/rmlessa/trabalho_pos_public/blob/main/opinioes_sobre_restaurantes_traducao_quatro.ipynb\" target=\"_parent\"><img src=\"https://colab.research.google.com/assets/colab-badge.svg\" alt=\"Open In Colab\"/></a>"
      ]
    },
    {
      "cell_type": "markdown",
      "metadata": {
        "id": "DwhJTI74UW-D"
      },
      "source": [
        "**2.3 Visão Geral dos Dados**\n",
        "\n",
        "A primeira tarefa que as equipes devem realizar é apresentar um resumo com as estatísticas dos dados do dataset (base de dados). A apresentação deste tipo de informação é relevante para que outras pessoas possam ter uma visão geral dos dados. As estatísticas podem ser apresentadas através de tabelas e/ou gráficos. \n",
        "\n",
        "Por exemplo, as equipes podem apresentar as características dos textos, tais como a quantidade média de sentenças e palavras por comentários, a distribuição das avaliações (notas), etc."
      ]
    },
    {
      "cell_type": "markdown",
      "metadata": {
        "id": "bzWRZvr1aKdM"
      },
      "source": [
        "**1. Instalar as bibliotecas necessárias para execução do trabaho**\n",
        "\n",
        "*   pandas\n",
        "*   numpy\n",
        "*   matplotlib"
      ]
    },
    {
      "cell_type": "code",
      "metadata": {
        "id": "mWNWwYlzarah",
        "outputId": "8f6f4043-3df4-470d-a2a8-511d082e8e7a",
        "colab": {
          "base_uri": "https://localhost:8080/"
        }
      },
      "source": [
        "pip install pandas"
      ],
      "execution_count": 2,
      "outputs": [
        {
          "output_type": "stream",
          "text": [
            "Requirement already satisfied: pandas in /usr/local/lib/python3.6/dist-packages (1.1.4)\n",
            "Requirement already satisfied: pytz>=2017.2 in /usr/local/lib/python3.6/dist-packages (from pandas) (2018.9)\n",
            "Requirement already satisfied: python-dateutil>=2.7.3 in /usr/local/lib/python3.6/dist-packages (from pandas) (2.8.1)\n",
            "Requirement already satisfied: numpy>=1.15.4 in /usr/local/lib/python3.6/dist-packages (from pandas) (1.18.5)\n",
            "Requirement already satisfied: six>=1.5 in /usr/local/lib/python3.6/dist-packages (from python-dateutil>=2.7.3->pandas) (1.15.0)\n"
          ],
          "name": "stdout"
        }
      ]
    },
    {
      "cell_type": "code",
      "metadata": {
        "id": "08SdcXToayRM",
        "outputId": "e43056b1-065f-47c8-952f-ac40fb14e9d2",
        "colab": {
          "base_uri": "https://localhost:8080/"
        }
      },
      "source": [
        "pip install numpy"
      ],
      "execution_count": 3,
      "outputs": [
        {
          "output_type": "stream",
          "text": [
            "Requirement already satisfied: numpy in /usr/local/lib/python3.6/dist-packages (1.18.5)\n"
          ],
          "name": "stdout"
        }
      ]
    },
    {
      "cell_type": "code",
      "metadata": {
        "id": "l2NM6cdjax8-",
        "outputId": "3e47924c-a370-4ff6-fb14-445da8d8f7ec",
        "colab": {
          "base_uri": "https://localhost:8080/"
        }
      },
      "source": [
        "pip install matplotlib"
      ],
      "execution_count": 4,
      "outputs": [
        {
          "output_type": "stream",
          "text": [
            "Requirement already satisfied: matplotlib in /usr/local/lib/python3.6/dist-packages (3.2.2)\n",
            "Requirement already satisfied: pyparsing!=2.0.4,!=2.1.2,!=2.1.6,>=2.0.1 in /usr/local/lib/python3.6/dist-packages (from matplotlib) (2.4.7)\n",
            "Requirement already satisfied: cycler>=0.10 in /usr/local/lib/python3.6/dist-packages (from matplotlib) (0.10.0)\n",
            "Requirement already satisfied: numpy>=1.11 in /usr/local/lib/python3.6/dist-packages (from matplotlib) (1.18.5)\n",
            "Requirement already satisfied: python-dateutil>=2.1 in /usr/local/lib/python3.6/dist-packages (from matplotlib) (2.8.1)\n",
            "Requirement already satisfied: kiwisolver>=1.0.1 in /usr/local/lib/python3.6/dist-packages (from matplotlib) (1.3.1)\n",
            "Requirement already satisfied: six in /usr/local/lib/python3.6/dist-packages (from cycler>=0.10->matplotlib) (1.15.0)\n"
          ],
          "name": "stdout"
        }
      ]
    },
    {
      "cell_type": "code",
      "metadata": {
        "id": "l-KkCm6v_WVa",
        "outputId": "e76ca66a-006c-4711-9a11-4b7d6fafe9c7",
        "colab": {
          "base_uri": "https://localhost:8080/"
        }
      },
      "source": [
        "pip install -U textblob"
      ],
      "execution_count": 5,
      "outputs": [
        {
          "output_type": "stream",
          "text": [
            "Requirement already up-to-date: textblob in /usr/local/lib/python3.6/dist-packages (0.15.3)\n",
            "Requirement already satisfied, skipping upgrade: nltk>=3.1 in /usr/local/lib/python3.6/dist-packages (from textblob) (3.2.5)\n",
            "Requirement already satisfied, skipping upgrade: six in /usr/local/lib/python3.6/dist-packages (from nltk>=3.1->textblob) (1.15.0)\n"
          ],
          "name": "stdout"
        }
      ]
    },
    {
      "cell_type": "code",
      "metadata": {
        "id": "S_dcjQhS_uJw"
      },
      "source": [
        "from textblob import TextBlob, Word, Blobber\n",
        "from textblob.classifiers import NaiveBayesClassifier\n",
        "from textblob.taggers import NLTKTagger"
      ],
      "execution_count": 6,
      "outputs": []
    },
    {
      "cell_type": "code",
      "metadata": {
        "id": "qWVfFhW18A05",
        "outputId": "6d4acf5b-6812-4025-b55f-27d0ed5cfb49",
        "colab": {
          "base_uri": "https://localhost:8080/"
        }
      },
      "source": [
        "pip install googletrans #para traduzir as reviews"
      ],
      "execution_count": 7,
      "outputs": [
        {
          "output_type": "stream",
          "text": [
            "Collecting googletrans\n",
            "  Downloading https://files.pythonhosted.org/packages/71/3a/3b19effdd4c03958b90f40fe01c93de6d5280e03843cc5adf6956bfc9512/googletrans-3.0.0.tar.gz\n",
            "Collecting httpx==0.13.3\n",
            "\u001b[?25l  Downloading https://files.pythonhosted.org/packages/54/b4/698b284c6aed4d7c2b4fe3ba5df1fcf6093612423797e76fbb24890dd22f/httpx-0.13.3-py3-none-any.whl (55kB)\n",
            "\u001b[K     |████████████████████████████████| 61kB 1.9MB/s \n",
            "\u001b[?25hRequirement already satisfied: chardet==3.* in /usr/local/lib/python3.6/dist-packages (from httpx==0.13.3->googletrans) (3.0.4)\n",
            "Requirement already satisfied: certifi in /usr/local/lib/python3.6/dist-packages (from httpx==0.13.3->googletrans) (2020.6.20)\n",
            "Collecting sniffio\n",
            "  Downloading https://files.pythonhosted.org/packages/52/b0/7b2e028b63d092804b6794595871f936aafa5e9322dcaaad50ebf67445b3/sniffio-1.2.0-py3-none-any.whl\n",
            "Requirement already satisfied: idna==2.* in /usr/local/lib/python3.6/dist-packages (from httpx==0.13.3->googletrans) (2.10)\n",
            "Collecting hstspreload\n",
            "\u001b[?25l  Downloading https://files.pythonhosted.org/packages/fe/f4/a290dfbc9cfebf7957c63e8caca5b80caddfd1d7721821a3e8b40a399923/hstspreload-2020.10.20-py3-none-any.whl (972kB)\n",
            "\u001b[K     |████████████████████████████████| 972kB 11.3MB/s \n",
            "\u001b[?25hCollecting rfc3986<2,>=1.3\n",
            "  Downloading https://files.pythonhosted.org/packages/78/be/7b8b99fd74ff5684225f50dd0e865393d2265656ef3b4ba9eaaaffe622b8/rfc3986-1.4.0-py2.py3-none-any.whl\n",
            "Collecting httpcore==0.9.*\n",
            "\u001b[?25l  Downloading https://files.pythonhosted.org/packages/dd/d5/e4ff9318693ac6101a2095e580908b591838c6f33df8d3ee8dd953ba96a8/httpcore-0.9.1-py3-none-any.whl (42kB)\n",
            "\u001b[K     |████████████████████████████████| 51kB 4.4MB/s \n",
            "\u001b[?25hCollecting contextvars>=2.1; python_version < \"3.7\"\n",
            "  Downloading https://files.pythonhosted.org/packages/83/96/55b82d9f13763be9d672622e1b8106c85acb83edd7cc2fa5bc67cd9877e9/contextvars-2.4.tar.gz\n",
            "Collecting h11<0.10,>=0.8\n",
            "\u001b[?25l  Downloading https://files.pythonhosted.org/packages/5a/fd/3dad730b0f95e78aeeb742f96fa7bbecbdd56a58e405d3da440d5bfb90c6/h11-0.9.0-py2.py3-none-any.whl (53kB)\n",
            "\u001b[K     |████████████████████████████████| 61kB 6.5MB/s \n",
            "\u001b[?25hCollecting h2==3.*\n",
            "\u001b[?25l  Downloading https://files.pythonhosted.org/packages/25/de/da019bcc539eeab02f6d45836f23858ac467f584bfec7a526ef200242afe/h2-3.2.0-py2.py3-none-any.whl (65kB)\n",
            "\u001b[K     |████████████████████████████████| 71kB 7.4MB/s \n",
            "\u001b[?25hCollecting immutables>=0.9\n",
            "\u001b[?25l  Downloading https://files.pythonhosted.org/packages/99/e0/ea6fd4697120327d26773b5a84853f897a68e33d3f9376b00a8ff96e4f63/immutables-0.14-cp36-cp36m-manylinux1_x86_64.whl (98kB)\n",
            "\u001b[K     |████████████████████████████████| 102kB 9.5MB/s \n",
            "\u001b[?25hCollecting hyperframe<6,>=5.2.0\n",
            "  Downloading https://files.pythonhosted.org/packages/19/0c/bf88182bcb5dce3094e2f3e4fe20db28a9928cb7bd5b08024030e4b140db/hyperframe-5.2.0-py2.py3-none-any.whl\n",
            "Collecting hpack<4,>=3.0\n",
            "  Downloading https://files.pythonhosted.org/packages/8a/cc/e53517f4a1e13f74776ca93271caef378dadec14d71c61c949d759d3db69/hpack-3.0.0-py2.py3-none-any.whl\n",
            "Building wheels for collected packages: googletrans, contextvars\n",
            "  Building wheel for googletrans (setup.py) ... \u001b[?25l\u001b[?25hdone\n",
            "  Created wheel for googletrans: filename=googletrans-3.0.0-cp36-none-any.whl size=15736 sha256=2519fd45d299ced32dff4b95f1f762a859354fb4accd7c50badec11237c8b2a2\n",
            "  Stored in directory: /root/.cache/pip/wheels/28/1a/a7/eaf4d7a3417a0c65796c547cff4deb6d79c7d14c2abd29273e\n",
            "  Building wheel for contextvars (setup.py) ... \u001b[?25l\u001b[?25hdone\n",
            "  Created wheel for contextvars: filename=contextvars-2.4-cp36-none-any.whl size=7666 sha256=c15df0c1a5cc902ca0e9e3be892d9f65032e87b0fc084791e89d8445fe13a530\n",
            "  Stored in directory: /root/.cache/pip/wheels/a5/7d/68/1ebae2668bda2228686e3c1cf16f2c2384cea6e9334ad5f6de\n",
            "Successfully built googletrans contextvars\n",
            "Installing collected packages: immutables, contextvars, sniffio, hstspreload, rfc3986, h11, hyperframe, hpack, h2, httpcore, httpx, googletrans\n",
            "Successfully installed contextvars-2.4 googletrans-3.0.0 h11-0.9.0 h2-3.2.0 hpack-3.0.0 hstspreload-2020.10.20 httpcore-0.9.1 httpx-0.13.3 hyperframe-5.2.0 immutables-0.14 rfc3986-1.4.0 sniffio-1.2.0\n"
          ],
          "name": "stdout"
        }
      ]
    },
    {
      "cell_type": "code",
      "metadata": {
        "id": "PHJK6lNT8g82"
      },
      "source": [
        "from googletrans import Translator #importa o tradutor do google"
      ],
      "execution_count": 8,
      "outputs": []
    },
    {
      "cell_type": "markdown",
      "metadata": {
        "id": "htGEUJW9Vb5U"
      },
      "source": [
        "**2. Importar as bibliotecas necessárias para realizar o trabalho**"
      ]
    },
    {
      "cell_type": "code",
      "metadata": {
        "id": "eq-aHipXVQv3"
      },
      "source": [
        "import pandas as pd\n",
        "import matplotlib\n",
        "import numpy as np\n",
        "import time\n",
        "import json \n",
        "from pandas.io.json import json_normalize #pacote para traduzir a coluna json usando pandas\n",
        "import sys"
      ],
      "execution_count": 36,
      "outputs": []
    },
    {
      "cell_type": "markdown",
      "metadata": {
        "id": "wpVs4--kWxXk"
      },
      "source": [
        "**2. Carregar o dataset disponibilizado pelo professor para o google colab**"
      ]
    },
    {
      "cell_type": "code",
      "metadata": {
        "id": "qsFOaRBWXBXv"
      },
      "source": [
        "ds = pd.read_json('http://tiagodemelo.info/datasets/dataset-v2.dat', lines=True)"
      ],
      "execution_count": 10,
      "outputs": []
    },
    {
      "cell_type": "markdown",
      "metadata": {
        "id": "g0auC_ofZsq1"
      },
      "source": [
        "**2.1 Exibir o dataset criado pelo professor e importado para o google colab**"
      ]
    },
    {
      "cell_type": "code",
      "metadata": {
        "id": "qWo-U7QBZ3kH",
        "outputId": "22a8bb2f-aff5-4fda-9bb1-39573c02152c",
        "colab": {
          "base_uri": "https://localhost:8080/",
          "height": 949
        }
      },
      "source": [
        "ds"
      ],
      "execution_count": 11,
      "outputs": [
        {
          "output_type": "execute_result",
          "data": {
            "text/html": [
              "<div>\n",
              "<style scoped>\n",
              "    .dataframe tbody tr th:only-of-type {\n",
              "        vertical-align: middle;\n",
              "    }\n",
              "\n",
              "    .dataframe tbody tr th {\n",
              "        vertical-align: top;\n",
              "    }\n",
              "\n",
              "    .dataframe thead th {\n",
              "        text-align: right;\n",
              "    }\n",
              "</style>\n",
              "<table border=\"1\" class=\"dataframe\">\n",
              "  <thead>\n",
              "    <tr style=\"text-align: right;\">\n",
              "      <th></th>\n",
              "      <th>title</th>\n",
              "      <th>reviewId</th>\n",
              "      <th>restaurantId</th>\n",
              "      <th>author</th>\n",
              "      <th>reviewBody</th>\n",
              "      <th>language</th>\n",
              "      <th>mobileDevice</th>\n",
              "      <th>userLocation</th>\n",
              "      <th>publicationDate</th>\n",
              "      <th>visitDate</th>\n",
              "      <th>ratingValue</th>\n",
              "      <th>itemReviewed</th>\n",
              "    </tr>\n",
              "  </thead>\n",
              "  <tbody>\n",
              "    <tr>\n",
              "      <th>0</th>\n",
              "      <td>Jantar</td>\n",
              "      <td>692856288</td>\n",
              "      <td>2344932.0</td>\n",
              "      <td>larinhavercosa222</td>\n",
              "      <td>Comida maravilhosa, lugar do verdadeiro chicle...</td>\n",
              "      <td>pt</td>\n",
              "      <td>True</td>\n",
              "      <td>São Carlos, SP</td>\n",
              "      <td>26/07/2019</td>\n",
              "      <td>07/2019</td>\n",
              "      <td>5</td>\n",
              "      <td>{'name': 'Imperador dos Camarões', 'address': ...</td>\n",
              "    </tr>\n",
              "    <tr>\n",
              "      <th>1</th>\n",
              "      <td>Uma boa experiência.</td>\n",
              "      <td>229208487</td>\n",
              "      <td>3720906.0</td>\n",
              "      <td>Pano P</td>\n",
              "      <td>Comida boa, drinks legais e um ambiente bem ac...</td>\n",
              "      <td>pt</td>\n",
              "      <td>True</td>\n",
              "      <td>Manaus, AM</td>\n",
              "      <td>16/09/2014</td>\n",
              "      <td>None</td>\n",
              "      <td>4</td>\n",
              "      <td>{'name': 'Guacamole Natal', 'address': {'stree...</td>\n",
              "    </tr>\n",
              "    <tr>\n",
              "      <th>2</th>\n",
              "      <td>Otimo self service</td>\n",
              "      <td>679002332</td>\n",
              "      <td>2248105.0</td>\n",
              "      <td>Magma100</td>\n",
              "      <td>Excelente pra ir com a família! Ótima Comida, ...</td>\n",
              "      <td>pt</td>\n",
              "      <td>True</td>\n",
              "      <td>Goiânia, GO</td>\n",
              "      <td>04/06/2019</td>\n",
              "      <td>07/2018</td>\n",
              "      <td>4</td>\n",
              "      <td>{'name': 'Chica Pitanga', 'address': {'streetA...</td>\n",
              "    </tr>\n",
              "    <tr>\n",
              "      <th>3</th>\n",
              "      <td>O sorvete mais tradicional do estado</td>\n",
              "      <td>355671519</td>\n",
              "      <td>8168302.0</td>\n",
              "      <td>Yurie M</td>\n",
              "      <td>Tomo sorvete na Visabor faz mais de 30 anos. S...</td>\n",
              "      <td>pt</td>\n",
              "      <td>False</td>\n",
              "      <td>Aracaju, SE</td>\n",
              "      <td>15/03/2016</td>\n",
              "      <td>01/2016</td>\n",
              "      <td>5</td>\n",
              "      <td>{'name': 'Sorvetes Vi Sabor', 'address': {'str...</td>\n",
              "    </tr>\n",
              "    <tr>\n",
              "      <th>4</th>\n",
              "      <td>Melhor hamburger!</td>\n",
              "      <td>268741921</td>\n",
              "      <td>5395141.0</td>\n",
              "      <td>Debora_C85</td>\n",
              "      <td>O melhor hamburger que já comi! Excelente aten...</td>\n",
              "      <td>pt</td>\n",
              "      <td>False</td>\n",
              "      <td>Rio de Janeiro, RJ</td>\n",
              "      <td>28/04/2015</td>\n",
              "      <td>04/2015</td>\n",
              "      <td>5</td>\n",
              "      <td>{'name': 'Z Deli Sandwich Shop', 'address': {'...</td>\n",
              "    </tr>\n",
              "    <tr>\n",
              "      <th>...</th>\n",
              "      <td>...</td>\n",
              "      <td>...</td>\n",
              "      <td>...</td>\n",
              "      <td>...</td>\n",
              "      <td>...</td>\n",
              "      <td>...</td>\n",
              "      <td>...</td>\n",
              "      <td>...</td>\n",
              "      <td>...</td>\n",
              "      <td>...</td>\n",
              "      <td>...</td>\n",
              "      <td>...</td>\n",
              "    </tr>\n",
              "    <tr>\n",
              "      <th>99995</th>\n",
              "      <td>Nova opção no Paseo!!!</td>\n",
              "      <td>672210394</td>\n",
              "      <td>17424548.0</td>\n",
              "      <td>Fabiano B</td>\n",
              "      <td>Ainda não inaugurado oficialmente, está atende...</td>\n",
              "      <td>pt</td>\n",
              "      <td>True</td>\n",
              "      <td>Porto Alegre, RS</td>\n",
              "      <td>07/05/2019</td>\n",
              "      <td>05/2019</td>\n",
              "      <td>5</td>\n",
              "      <td>{'name': 'Boteco Maestro', 'address': {'street...</td>\n",
              "    </tr>\n",
              "    <tr>\n",
              "      <th>99996</th>\n",
              "      <td>Bom</td>\n",
              "      <td>380904400</td>\n",
              "      <td>2440184.0</td>\n",
              "      <td>Chris L</td>\n",
              "      <td>Bom atendimento, lugar bonito, comida muito go...</td>\n",
              "      <td>pt</td>\n",
              "      <td>True</td>\n",
              "      <td>Cork, Irlanda</td>\n",
              "      <td>08/06/2016</td>\n",
              "      <td>01/2016</td>\n",
              "      <td>4</td>\n",
              "      <td>{'name': 'Casa do Marquês', 'address': {'stree...</td>\n",
              "    </tr>\n",
              "    <tr>\n",
              "      <th>99997</th>\n",
              "      <td>Bom bar</td>\n",
              "      <td>186111858</td>\n",
              "      <td>2392996.0</td>\n",
              "      <td>Guilherme P</td>\n",
              "      <td>O Rio Scenarium é uma das baladas mais famosas...</td>\n",
              "      <td>pt</td>\n",
              "      <td>False</td>\n",
              "      <td>São Paulo, SP</td>\n",
              "      <td>27/11/2013</td>\n",
              "      <td>11/2013</td>\n",
              "      <td>4</td>\n",
              "      <td>{'name': 'Rio Scenarium', 'address': {'streetA...</td>\n",
              "    </tr>\n",
              "    <tr>\n",
              "      <th>99998</th>\n",
              "      <td>Me senti enganada...</td>\n",
              "      <td>152745909</td>\n",
              "      <td>1062290.0</td>\n",
              "      <td>LisianeCohem</td>\n",
              "      <td>Fui por indicação e com boa expectativa!\\n116,...</td>\n",
              "      <td>pt</td>\n",
              "      <td>True</td>\n",
              "      <td>Porto Alegre, RS</td>\n",
              "      <td>21/02/2013</td>\n",
              "      <td>None</td>\n",
              "      <td>2</td>\n",
              "      <td>{'name': 'Celeiro', 'address': {'streetAddress...</td>\n",
              "    </tr>\n",
              "    <tr>\n",
              "      <th>99999</th>\n",
              "      <td>Restaurante excelente</td>\n",
              "      <td>649755498</td>\n",
              "      <td>12433911.0</td>\n",
              "      <td>brunotulio</td>\n",
              "      <td>Experiência fantástica com comida deliciosa e ...</td>\n",
              "      <td>pt</td>\n",
              "      <td>True</td>\n",
              "      <td>Manaus, AM</td>\n",
              "      <td>02/02/2019</td>\n",
              "      <td>02/2019</td>\n",
              "      <td>5</td>\n",
              "      <td>{'name': 'Coco Bambu Manaus', 'address': {'str...</td>\n",
              "    </tr>\n",
              "  </tbody>\n",
              "</table>\n",
              "<p>100000 rows × 12 columns</p>\n",
              "</div>"
            ],
            "text/plain": [
              "                                      title  ...                                       itemReviewed\n",
              "0                                   Jantar   ...  {'name': 'Imperador dos Camarões', 'address': ...\n",
              "1                      Uma boa experiência.  ...  {'name': 'Guacamole Natal', 'address': {'stree...\n",
              "2                        Otimo self service  ...  {'name': 'Chica Pitanga', 'address': {'streetA...\n",
              "3      O sorvete mais tradicional do estado  ...  {'name': 'Sorvetes Vi Sabor', 'address': {'str...\n",
              "4                         Melhor hamburger!  ...  {'name': 'Z Deli Sandwich Shop', 'address': {'...\n",
              "...                                     ...  ...                                                ...\n",
              "99995                Nova opção no Paseo!!!  ...  {'name': 'Boteco Maestro', 'address': {'street...\n",
              "99996                                   Bom  ...  {'name': 'Casa do Marquês', 'address': {'stree...\n",
              "99997                               Bom bar  ...  {'name': 'Rio Scenarium', 'address': {'streetA...\n",
              "99998                  Me senti enganada...  ...  {'name': 'Celeiro', 'address': {'streetAddress...\n",
              "99999                 Restaurante excelente  ...  {'name': 'Coco Bambu Manaus', 'address': {'str...\n",
              "\n",
              "[100000 rows x 12 columns]"
            ]
          },
          "metadata": {
            "tags": []
          },
          "execution_count": 11
        }
      ]
    },
    {
      "cell_type": "markdown",
      "metadata": {
        "id": "ECSUxrqwb4cT"
      },
      "source": [
        "**3. Após os dados carregados, é importante perceber que a última coluna também tem dados json aninhados e isso precisa ser extraído**"
      ]
    },
    {
      "cell_type": "code",
      "metadata": {
        "id": "U3PlpQF6ciAR"
      },
      "source": [
        "col_12 = pd.json_normalize(ds['itemReviewed']) #lendo a coluna aninhada json"
      ],
      "execution_count": 12,
      "outputs": []
    },
    {
      "cell_type": "code",
      "metadata": {
        "id": "jk3hHtqbhOPg",
        "outputId": "7636bf88-936e-4473-8520-e7966b89795e",
        "colab": {
          "base_uri": "https://localhost:8080/"
        }
      },
      "source": [
        "col_12.info() #exibindo o dataframe com os dados json da coluna 12 do dataframe ds"
      ],
      "execution_count": 13,
      "outputs": [
        {
          "output_type": "stream",
          "text": [
            "<class 'pandas.core.frame.DataFrame'>\n",
            "RangeIndex: 100000 entries, 0 to 99999\n",
            "Data columns (total 10 columns):\n",
            " #   Column                   Non-Null Count   Dtype \n",
            "---  ------                   --------------   ----- \n",
            " 0   name                     100000 non-null  object\n",
            " 1   website                  100000 non-null  object\n",
            " 2   email                    100000 non-null  object\n",
            " 3   phoneNumber              100000 non-null  object\n",
            " 4   averageRating            100000 non-null  object\n",
            " 5   address.streetAddress    100000 non-null  object\n",
            " 6   address.addressLocality  100000 non-null  object\n",
            " 7   address.addressRegion    100000 non-null  object\n",
            " 8   address.postalCode       100000 non-null  object\n",
            " 9   address.country          100000 non-null  object\n",
            "dtypes: object(10)\n",
            "memory usage: 7.6+ MB\n"
          ],
          "name": "stdout"
        }
      ]
    },
    {
      "cell_type": "markdown",
      "metadata": {
        "id": "OpHve-0ajf-J"
      },
      "source": [
        "**4. Realizando o merge dos dois dataframe pelo índice**"
      ]
    },
    {
      "cell_type": "code",
      "metadata": {
        "id": "4h1IAwP-uQpZ"
      },
      "source": [
        "ds_merged = pd.merge(ds,col_12, left_index=True, right_index=True)"
      ],
      "execution_count": 14,
      "outputs": []
    },
    {
      "cell_type": "code",
      "metadata": {
        "id": "0kAoOG14u1B7",
        "outputId": "d6eff6d7-44a4-4456-8c1f-85939ec94c4e",
        "colab": {
          "base_uri": "https://localhost:8080/",
          "height": 864
        }
      },
      "source": [
        "ds_merged.drop(columns=['itemReviewed']) #deleta a coluna itemReviewed do dataframe"
      ],
      "execution_count": 15,
      "outputs": [
        {
          "output_type": "execute_result",
          "data": {
            "text/html": [
              "<div>\n",
              "<style scoped>\n",
              "    .dataframe tbody tr th:only-of-type {\n",
              "        vertical-align: middle;\n",
              "    }\n",
              "\n",
              "    .dataframe tbody tr th {\n",
              "        vertical-align: top;\n",
              "    }\n",
              "\n",
              "    .dataframe thead th {\n",
              "        text-align: right;\n",
              "    }\n",
              "</style>\n",
              "<table border=\"1\" class=\"dataframe\">\n",
              "  <thead>\n",
              "    <tr style=\"text-align: right;\">\n",
              "      <th></th>\n",
              "      <th>title</th>\n",
              "      <th>reviewId</th>\n",
              "      <th>restaurantId</th>\n",
              "      <th>author</th>\n",
              "      <th>reviewBody</th>\n",
              "      <th>language</th>\n",
              "      <th>mobileDevice</th>\n",
              "      <th>userLocation</th>\n",
              "      <th>publicationDate</th>\n",
              "      <th>visitDate</th>\n",
              "      <th>ratingValue</th>\n",
              "      <th>name</th>\n",
              "      <th>website</th>\n",
              "      <th>email</th>\n",
              "      <th>phoneNumber</th>\n",
              "      <th>averageRating</th>\n",
              "      <th>address.streetAddress</th>\n",
              "      <th>address.addressLocality</th>\n",
              "      <th>address.addressRegion</th>\n",
              "      <th>address.postalCode</th>\n",
              "      <th>address.country</th>\n",
              "    </tr>\n",
              "  </thead>\n",
              "  <tbody>\n",
              "    <tr>\n",
              "      <th>0</th>\n",
              "      <td>Jantar</td>\n",
              "      <td>692856288</td>\n",
              "      <td>2344932.0</td>\n",
              "      <td>larinhavercosa222</td>\n",
              "      <td>Comida maravilhosa, lugar do verdadeiro chicle...</td>\n",
              "      <td>pt</td>\n",
              "      <td>True</td>\n",
              "      <td>São Carlos, SP</td>\n",
              "      <td>26/07/2019</td>\n",
              "      <td>07/2019</td>\n",
              "      <td>5</td>\n",
              "      <td>Imperador dos Camarões</td>\n",
              "      <td>http://www.imperadordoscamaroes.com.br</td>\n",
              "      <td>contato@imperadordoscamaroes.com.br</td>\n",
              "      <td>+55 82 3231-4134</td>\n",
              "      <td>4.5</td>\n",
              "      <td>Avenida Doutor Antônio Gouveia</td>\n",
              "      <td></td>\n",
              "      <td>Alagoas</td>\n",
              "      <td>57030-170</td>\n",
              "      <td>Brasil</td>\n",
              "    </tr>\n",
              "    <tr>\n",
              "      <th>1</th>\n",
              "      <td>Uma boa experiência.</td>\n",
              "      <td>229208487</td>\n",
              "      <td>3720906.0</td>\n",
              "      <td>Pano P</td>\n",
              "      <td>Comida boa, drinks legais e um ambiente bem ac...</td>\n",
              "      <td>pt</td>\n",
              "      <td>True</td>\n",
              "      <td>Manaus, AM</td>\n",
              "      <td>16/09/2014</td>\n",
              "      <td>None</td>\n",
              "      <td>4</td>\n",
              "      <td>Guacamole Natal</td>\n",
              "      <td>http://www.facebook.com/GuacamoleNatal</td>\n",
              "      <td>guacamolenatal@gmail.com</td>\n",
              "      <td>+55 84 3219-3646</td>\n",
              "      <td>4.5</td>\n",
              "      <td>Avenida Praia de Ponta Negra 9068 Ponta Negra</td>\n",
              "      <td></td>\n",
              "      <td>Rio Grande do Norte</td>\n",
              "      <td>59092-100</td>\n",
              "      <td>Brasil</td>\n",
              "    </tr>\n",
              "    <tr>\n",
              "      <th>2</th>\n",
              "      <td>Otimo self service</td>\n",
              "      <td>679002332</td>\n",
              "      <td>2248105.0</td>\n",
              "      <td>Magma100</td>\n",
              "      <td>Excelente pra ir com a família! Ótima Comida, ...</td>\n",
              "      <td>pt</td>\n",
              "      <td>True</td>\n",
              "      <td>Goiânia, GO</td>\n",
              "      <td>04/06/2019</td>\n",
              "      <td>07/2018</td>\n",
              "      <td>4</td>\n",
              "      <td>Chica Pitanga</td>\n",
              "      <td>http://www.chicapitanga.com.br</td>\n",
              "      <td>chicapitanga@chicapitanga.com.br</td>\n",
              "      <td>+55 81 3334-8260</td>\n",
              "      <td>4.5</td>\n",
              "      <td>Rua Petrolina 19</td>\n",
              "      <td>Recife</td>\n",
              "      <td>Pernambuco</td>\n",
              "      <td>51021-250</td>\n",
              "      <td>Brasil</td>\n",
              "    </tr>\n",
              "    <tr>\n",
              "      <th>3</th>\n",
              "      <td>O sorvete mais tradicional do estado</td>\n",
              "      <td>355671519</td>\n",
              "      <td>8168302.0</td>\n",
              "      <td>Yurie M</td>\n",
              "      <td>Tomo sorvete na Visabor faz mais de 30 anos. S...</td>\n",
              "      <td>pt</td>\n",
              "      <td>False</td>\n",
              "      <td>Aracaju, SE</td>\n",
              "      <td>15/03/2016</td>\n",
              "      <td>01/2016</td>\n",
              "      <td>5</td>\n",
              "      <td>Sorvetes Vi Sabor</td>\n",
              "      <td>None</td>\n",
              "      <td>None</td>\n",
              "      <td>None</td>\n",
              "      <td>4.0</td>\n",
              "      <td>Avenida Francisco Porto 59 Grageru</td>\n",
              "      <td>Aracaju</td>\n",
              "      <td>Sergipe</td>\n",
              "      <td></td>\n",
              "      <td>Brasil</td>\n",
              "    </tr>\n",
              "    <tr>\n",
              "      <th>4</th>\n",
              "      <td>Melhor hamburger!</td>\n",
              "      <td>268741921</td>\n",
              "      <td>5395141.0</td>\n",
              "      <td>Debora_C85</td>\n",
              "      <td>O melhor hamburger que já comi! Excelente aten...</td>\n",
              "      <td>pt</td>\n",
              "      <td>False</td>\n",
              "      <td>Rio de Janeiro, RJ</td>\n",
              "      <td>28/04/2015</td>\n",
              "      <td>04/2015</td>\n",
              "      <td>5</td>\n",
              "      <td>Z Deli Sandwich Shop</td>\n",
              "      <td>http://www.facebook.com/zdelisandwichshop/</td>\n",
              "      <td>None</td>\n",
              "      <td>551130830021</td>\n",
              "      <td>4.5</td>\n",
              "      <td>Rua Haddock Lobo 1386 Jardins</td>\n",
              "      <td>São Paulo</td>\n",
              "      <td>Estado de São Paulo</td>\n",
              "      <td>01414-002</td>\n",
              "      <td>Brasil</td>\n",
              "    </tr>\n",
              "    <tr>\n",
              "      <th>...</th>\n",
              "      <td>...</td>\n",
              "      <td>...</td>\n",
              "      <td>...</td>\n",
              "      <td>...</td>\n",
              "      <td>...</td>\n",
              "      <td>...</td>\n",
              "      <td>...</td>\n",
              "      <td>...</td>\n",
              "      <td>...</td>\n",
              "      <td>...</td>\n",
              "      <td>...</td>\n",
              "      <td>...</td>\n",
              "      <td>...</td>\n",
              "      <td>...</td>\n",
              "      <td>...</td>\n",
              "      <td>...</td>\n",
              "      <td>...</td>\n",
              "      <td>...</td>\n",
              "      <td>...</td>\n",
              "      <td>...</td>\n",
              "      <td>...</td>\n",
              "    </tr>\n",
              "    <tr>\n",
              "      <th>99995</th>\n",
              "      <td>Nova opção no Paseo!!!</td>\n",
              "      <td>672210394</td>\n",
              "      <td>17424548.0</td>\n",
              "      <td>Fabiano B</td>\n",
              "      <td>Ainda não inaugurado oficialmente, está atende...</td>\n",
              "      <td>pt</td>\n",
              "      <td>True</td>\n",
              "      <td>Porto Alegre, RS</td>\n",
              "      <td>07/05/2019</td>\n",
              "      <td>05/2019</td>\n",
              "      <td>5</td>\n",
              "      <td>Boteco Maestro</td>\n",
              "      <td>http://www.facebook.com/botecomaestro</td>\n",
              "      <td>None</td>\n",
              "      <td>+55 51 99353-6602</td>\n",
              "      <td>4.0</td>\n",
              "      <td>Avenida Wenceslau Escobar 1823</td>\n",
              "      <td>Porto Alegre</td>\n",
              "      <td>Rio Grande do Sul</td>\n",
              "      <td>91900-000</td>\n",
              "      <td>Brasil</td>\n",
              "    </tr>\n",
              "    <tr>\n",
              "      <th>99996</th>\n",
              "      <td>Bom</td>\n",
              "      <td>380904400</td>\n",
              "      <td>2440184.0</td>\n",
              "      <td>Chris L</td>\n",
              "      <td>Bom atendimento, lugar bonito, comida muito go...</td>\n",
              "      <td>pt</td>\n",
              "      <td>True</td>\n",
              "      <td>Cork, Irlanda</td>\n",
              "      <td>08/06/2016</td>\n",
              "      <td>01/2016</td>\n",
              "      <td>4</td>\n",
              "      <td>Casa do Marquês</td>\n",
              "      <td>http://galeteriacasadomarques.com.br/</td>\n",
              "      <td>galeteriacasadomarques@galeteriacasadomarques....</td>\n",
              "      <td>+55 51 3343-4303</td>\n",
              "      <td>4.5</td>\n",
              "      <td>Rua Marques do Pombal, 1814 Higienópolis</td>\n",
              "      <td>Porto Alegre</td>\n",
              "      <td>Rio Grande do Sul</td>\n",
              "      <td>90540-000</td>\n",
              "      <td>Brasil</td>\n",
              "    </tr>\n",
              "    <tr>\n",
              "      <th>99997</th>\n",
              "      <td>Bom bar</td>\n",
              "      <td>186111858</td>\n",
              "      <td>2392996.0</td>\n",
              "      <td>Guilherme P</td>\n",
              "      <td>O Rio Scenarium é uma das baladas mais famosas...</td>\n",
              "      <td>pt</td>\n",
              "      <td>False</td>\n",
              "      <td>São Paulo, SP</td>\n",
              "      <td>27/11/2013</td>\n",
              "      <td>11/2013</td>\n",
              "      <td>4</td>\n",
              "      <td>Rio Scenarium</td>\n",
              "      <td>http://www.rioscenarium.art.br</td>\n",
              "      <td>None</td>\n",
              "      <td>+55 21-3147-9000</td>\n",
              "      <td>4.5</td>\n",
              "      <td>Rua do Lavradio 20 Centro</td>\n",
              "      <td>Rio de Janeiro</td>\n",
              "      <td>Estado do Rio de Janeiro</td>\n",
              "      <td>20230-070</td>\n",
              "      <td>Brasil</td>\n",
              "    </tr>\n",
              "    <tr>\n",
              "      <th>99998</th>\n",
              "      <td>Me senti enganada...</td>\n",
              "      <td>152745909</td>\n",
              "      <td>1062290.0</td>\n",
              "      <td>LisianeCohem</td>\n",
              "      <td>Fui por indicação e com boa expectativa!\\n116,...</td>\n",
              "      <td>pt</td>\n",
              "      <td>True</td>\n",
              "      <td>Porto Alegre, RS</td>\n",
              "      <td>21/02/2013</td>\n",
              "      <td>None</td>\n",
              "      <td>2</td>\n",
              "      <td>Celeiro</td>\n",
              "      <td>http://www.celeiroculinaria.com.br</td>\n",
              "      <td>celeiro@celeiroculinaria.com.br</td>\n",
              "      <td>55 21 2274 7843</td>\n",
              "      <td>3.5</td>\n",
              "      <td>Rua Dias Ferreira 199</td>\n",
              "      <td>Rio de Janeiro</td>\n",
              "      <td>Estado do Rio de Janeiro</td>\n",
              "      <td>22431-050</td>\n",
              "      <td>Brasil</td>\n",
              "    </tr>\n",
              "    <tr>\n",
              "      <th>99999</th>\n",
              "      <td>Restaurante excelente</td>\n",
              "      <td>649755498</td>\n",
              "      <td>12433911.0</td>\n",
              "      <td>brunotulio</td>\n",
              "      <td>Experiência fantástica com comida deliciosa e ...</td>\n",
              "      <td>pt</td>\n",
              "      <td>True</td>\n",
              "      <td>Manaus, AM</td>\n",
              "      <td>02/02/2019</td>\n",
              "      <td>02/2019</td>\n",
              "      <td>5</td>\n",
              "      <td>Coco Bambu Manaus</td>\n",
              "      <td>http://www.facebook.com/cocobambumanausoficial/</td>\n",
              "      <td>rh.manaus@cocobambu.com</td>\n",
              "      <td>+55 92 3667-7430</td>\n",
              "      <td>5.0</td>\n",
              "      <td>Avenida Coronel Teixeira, 5705 Ponta Negra, Sh...</td>\n",
              "      <td>Manaus</td>\n",
              "      <td>Rio Amazonas</td>\n",
              "      <td>69037-000</td>\n",
              "      <td>Brasil</td>\n",
              "    </tr>\n",
              "  </tbody>\n",
              "</table>\n",
              "<p>100000 rows × 21 columns</p>\n",
              "</div>"
            ],
            "text/plain": [
              "                                      title  ...  address.country\n",
              "0                                   Jantar   ...           Brasil\n",
              "1                      Uma boa experiência.  ...           Brasil\n",
              "2                        Otimo self service  ...           Brasil\n",
              "3      O sorvete mais tradicional do estado  ...           Brasil\n",
              "4                         Melhor hamburger!  ...           Brasil\n",
              "...                                     ...  ...              ...\n",
              "99995                Nova opção no Paseo!!!  ...           Brasil\n",
              "99996                                   Bom  ...           Brasil\n",
              "99997                               Bom bar  ...           Brasil\n",
              "99998                  Me senti enganada...  ...           Brasil\n",
              "99999                 Restaurante excelente  ...           Brasil\n",
              "\n",
              "[100000 rows x 21 columns]"
            ]
          },
          "metadata": {
            "tags": []
          },
          "execution_count": 15
        }
      ]
    },
    {
      "cell_type": "code",
      "metadata": {
        "id": "4vjrSKFhumic",
        "outputId": "785df94c-5567-4f5d-8778-dfb956550a57",
        "colab": {
          "base_uri": "https://localhost:8080/",
          "height": 949
        }
      },
      "source": [
        "ds_merged"
      ],
      "execution_count": 16,
      "outputs": [
        {
          "output_type": "execute_result",
          "data": {
            "text/html": [
              "<div>\n",
              "<style scoped>\n",
              "    .dataframe tbody tr th:only-of-type {\n",
              "        vertical-align: middle;\n",
              "    }\n",
              "\n",
              "    .dataframe tbody tr th {\n",
              "        vertical-align: top;\n",
              "    }\n",
              "\n",
              "    .dataframe thead th {\n",
              "        text-align: right;\n",
              "    }\n",
              "</style>\n",
              "<table border=\"1\" class=\"dataframe\">\n",
              "  <thead>\n",
              "    <tr style=\"text-align: right;\">\n",
              "      <th></th>\n",
              "      <th>title</th>\n",
              "      <th>reviewId</th>\n",
              "      <th>restaurantId</th>\n",
              "      <th>author</th>\n",
              "      <th>reviewBody</th>\n",
              "      <th>language</th>\n",
              "      <th>mobileDevice</th>\n",
              "      <th>userLocation</th>\n",
              "      <th>publicationDate</th>\n",
              "      <th>visitDate</th>\n",
              "      <th>ratingValue</th>\n",
              "      <th>itemReviewed</th>\n",
              "      <th>name</th>\n",
              "      <th>website</th>\n",
              "      <th>email</th>\n",
              "      <th>phoneNumber</th>\n",
              "      <th>averageRating</th>\n",
              "      <th>address.streetAddress</th>\n",
              "      <th>address.addressLocality</th>\n",
              "      <th>address.addressRegion</th>\n",
              "      <th>address.postalCode</th>\n",
              "      <th>address.country</th>\n",
              "    </tr>\n",
              "  </thead>\n",
              "  <tbody>\n",
              "    <tr>\n",
              "      <th>0</th>\n",
              "      <td>Jantar</td>\n",
              "      <td>692856288</td>\n",
              "      <td>2344932.0</td>\n",
              "      <td>larinhavercosa222</td>\n",
              "      <td>Comida maravilhosa, lugar do verdadeiro chicle...</td>\n",
              "      <td>pt</td>\n",
              "      <td>True</td>\n",
              "      <td>São Carlos, SP</td>\n",
              "      <td>26/07/2019</td>\n",
              "      <td>07/2019</td>\n",
              "      <td>5</td>\n",
              "      <td>{'name': 'Imperador dos Camarões', 'address': ...</td>\n",
              "      <td>Imperador dos Camarões</td>\n",
              "      <td>http://www.imperadordoscamaroes.com.br</td>\n",
              "      <td>contato@imperadordoscamaroes.com.br</td>\n",
              "      <td>+55 82 3231-4134</td>\n",
              "      <td>4.5</td>\n",
              "      <td>Avenida Doutor Antônio Gouveia</td>\n",
              "      <td></td>\n",
              "      <td>Alagoas</td>\n",
              "      <td>57030-170</td>\n",
              "      <td>Brasil</td>\n",
              "    </tr>\n",
              "    <tr>\n",
              "      <th>1</th>\n",
              "      <td>Uma boa experiência.</td>\n",
              "      <td>229208487</td>\n",
              "      <td>3720906.0</td>\n",
              "      <td>Pano P</td>\n",
              "      <td>Comida boa, drinks legais e um ambiente bem ac...</td>\n",
              "      <td>pt</td>\n",
              "      <td>True</td>\n",
              "      <td>Manaus, AM</td>\n",
              "      <td>16/09/2014</td>\n",
              "      <td>None</td>\n",
              "      <td>4</td>\n",
              "      <td>{'name': 'Guacamole Natal', 'address': {'stree...</td>\n",
              "      <td>Guacamole Natal</td>\n",
              "      <td>http://www.facebook.com/GuacamoleNatal</td>\n",
              "      <td>guacamolenatal@gmail.com</td>\n",
              "      <td>+55 84 3219-3646</td>\n",
              "      <td>4.5</td>\n",
              "      <td>Avenida Praia de Ponta Negra 9068 Ponta Negra</td>\n",
              "      <td></td>\n",
              "      <td>Rio Grande do Norte</td>\n",
              "      <td>59092-100</td>\n",
              "      <td>Brasil</td>\n",
              "    </tr>\n",
              "    <tr>\n",
              "      <th>2</th>\n",
              "      <td>Otimo self service</td>\n",
              "      <td>679002332</td>\n",
              "      <td>2248105.0</td>\n",
              "      <td>Magma100</td>\n",
              "      <td>Excelente pra ir com a família! Ótima Comida, ...</td>\n",
              "      <td>pt</td>\n",
              "      <td>True</td>\n",
              "      <td>Goiânia, GO</td>\n",
              "      <td>04/06/2019</td>\n",
              "      <td>07/2018</td>\n",
              "      <td>4</td>\n",
              "      <td>{'name': 'Chica Pitanga', 'address': {'streetA...</td>\n",
              "      <td>Chica Pitanga</td>\n",
              "      <td>http://www.chicapitanga.com.br</td>\n",
              "      <td>chicapitanga@chicapitanga.com.br</td>\n",
              "      <td>+55 81 3334-8260</td>\n",
              "      <td>4.5</td>\n",
              "      <td>Rua Petrolina 19</td>\n",
              "      <td>Recife</td>\n",
              "      <td>Pernambuco</td>\n",
              "      <td>51021-250</td>\n",
              "      <td>Brasil</td>\n",
              "    </tr>\n",
              "    <tr>\n",
              "      <th>3</th>\n",
              "      <td>O sorvete mais tradicional do estado</td>\n",
              "      <td>355671519</td>\n",
              "      <td>8168302.0</td>\n",
              "      <td>Yurie M</td>\n",
              "      <td>Tomo sorvete na Visabor faz mais de 30 anos. S...</td>\n",
              "      <td>pt</td>\n",
              "      <td>False</td>\n",
              "      <td>Aracaju, SE</td>\n",
              "      <td>15/03/2016</td>\n",
              "      <td>01/2016</td>\n",
              "      <td>5</td>\n",
              "      <td>{'name': 'Sorvetes Vi Sabor', 'address': {'str...</td>\n",
              "      <td>Sorvetes Vi Sabor</td>\n",
              "      <td>None</td>\n",
              "      <td>None</td>\n",
              "      <td>None</td>\n",
              "      <td>4.0</td>\n",
              "      <td>Avenida Francisco Porto 59 Grageru</td>\n",
              "      <td>Aracaju</td>\n",
              "      <td>Sergipe</td>\n",
              "      <td></td>\n",
              "      <td>Brasil</td>\n",
              "    </tr>\n",
              "    <tr>\n",
              "      <th>4</th>\n",
              "      <td>Melhor hamburger!</td>\n",
              "      <td>268741921</td>\n",
              "      <td>5395141.0</td>\n",
              "      <td>Debora_C85</td>\n",
              "      <td>O melhor hamburger que já comi! Excelente aten...</td>\n",
              "      <td>pt</td>\n",
              "      <td>False</td>\n",
              "      <td>Rio de Janeiro, RJ</td>\n",
              "      <td>28/04/2015</td>\n",
              "      <td>04/2015</td>\n",
              "      <td>5</td>\n",
              "      <td>{'name': 'Z Deli Sandwich Shop', 'address': {'...</td>\n",
              "      <td>Z Deli Sandwich Shop</td>\n",
              "      <td>http://www.facebook.com/zdelisandwichshop/</td>\n",
              "      <td>None</td>\n",
              "      <td>551130830021</td>\n",
              "      <td>4.5</td>\n",
              "      <td>Rua Haddock Lobo 1386 Jardins</td>\n",
              "      <td>São Paulo</td>\n",
              "      <td>Estado de São Paulo</td>\n",
              "      <td>01414-002</td>\n",
              "      <td>Brasil</td>\n",
              "    </tr>\n",
              "    <tr>\n",
              "      <th>...</th>\n",
              "      <td>...</td>\n",
              "      <td>...</td>\n",
              "      <td>...</td>\n",
              "      <td>...</td>\n",
              "      <td>...</td>\n",
              "      <td>...</td>\n",
              "      <td>...</td>\n",
              "      <td>...</td>\n",
              "      <td>...</td>\n",
              "      <td>...</td>\n",
              "      <td>...</td>\n",
              "      <td>...</td>\n",
              "      <td>...</td>\n",
              "      <td>...</td>\n",
              "      <td>...</td>\n",
              "      <td>...</td>\n",
              "      <td>...</td>\n",
              "      <td>...</td>\n",
              "      <td>...</td>\n",
              "      <td>...</td>\n",
              "      <td>...</td>\n",
              "      <td>...</td>\n",
              "    </tr>\n",
              "    <tr>\n",
              "      <th>99995</th>\n",
              "      <td>Nova opção no Paseo!!!</td>\n",
              "      <td>672210394</td>\n",
              "      <td>17424548.0</td>\n",
              "      <td>Fabiano B</td>\n",
              "      <td>Ainda não inaugurado oficialmente, está atende...</td>\n",
              "      <td>pt</td>\n",
              "      <td>True</td>\n",
              "      <td>Porto Alegre, RS</td>\n",
              "      <td>07/05/2019</td>\n",
              "      <td>05/2019</td>\n",
              "      <td>5</td>\n",
              "      <td>{'name': 'Boteco Maestro', 'address': {'street...</td>\n",
              "      <td>Boteco Maestro</td>\n",
              "      <td>http://www.facebook.com/botecomaestro</td>\n",
              "      <td>None</td>\n",
              "      <td>+55 51 99353-6602</td>\n",
              "      <td>4.0</td>\n",
              "      <td>Avenida Wenceslau Escobar 1823</td>\n",
              "      <td>Porto Alegre</td>\n",
              "      <td>Rio Grande do Sul</td>\n",
              "      <td>91900-000</td>\n",
              "      <td>Brasil</td>\n",
              "    </tr>\n",
              "    <tr>\n",
              "      <th>99996</th>\n",
              "      <td>Bom</td>\n",
              "      <td>380904400</td>\n",
              "      <td>2440184.0</td>\n",
              "      <td>Chris L</td>\n",
              "      <td>Bom atendimento, lugar bonito, comida muito go...</td>\n",
              "      <td>pt</td>\n",
              "      <td>True</td>\n",
              "      <td>Cork, Irlanda</td>\n",
              "      <td>08/06/2016</td>\n",
              "      <td>01/2016</td>\n",
              "      <td>4</td>\n",
              "      <td>{'name': 'Casa do Marquês', 'address': {'stree...</td>\n",
              "      <td>Casa do Marquês</td>\n",
              "      <td>http://galeteriacasadomarques.com.br/</td>\n",
              "      <td>galeteriacasadomarques@galeteriacasadomarques....</td>\n",
              "      <td>+55 51 3343-4303</td>\n",
              "      <td>4.5</td>\n",
              "      <td>Rua Marques do Pombal, 1814 Higienópolis</td>\n",
              "      <td>Porto Alegre</td>\n",
              "      <td>Rio Grande do Sul</td>\n",
              "      <td>90540-000</td>\n",
              "      <td>Brasil</td>\n",
              "    </tr>\n",
              "    <tr>\n",
              "      <th>99997</th>\n",
              "      <td>Bom bar</td>\n",
              "      <td>186111858</td>\n",
              "      <td>2392996.0</td>\n",
              "      <td>Guilherme P</td>\n",
              "      <td>O Rio Scenarium é uma das baladas mais famosas...</td>\n",
              "      <td>pt</td>\n",
              "      <td>False</td>\n",
              "      <td>São Paulo, SP</td>\n",
              "      <td>27/11/2013</td>\n",
              "      <td>11/2013</td>\n",
              "      <td>4</td>\n",
              "      <td>{'name': 'Rio Scenarium', 'address': {'streetA...</td>\n",
              "      <td>Rio Scenarium</td>\n",
              "      <td>http://www.rioscenarium.art.br</td>\n",
              "      <td>None</td>\n",
              "      <td>+55 21-3147-9000</td>\n",
              "      <td>4.5</td>\n",
              "      <td>Rua do Lavradio 20 Centro</td>\n",
              "      <td>Rio de Janeiro</td>\n",
              "      <td>Estado do Rio de Janeiro</td>\n",
              "      <td>20230-070</td>\n",
              "      <td>Brasil</td>\n",
              "    </tr>\n",
              "    <tr>\n",
              "      <th>99998</th>\n",
              "      <td>Me senti enganada...</td>\n",
              "      <td>152745909</td>\n",
              "      <td>1062290.0</td>\n",
              "      <td>LisianeCohem</td>\n",
              "      <td>Fui por indicação e com boa expectativa!\\n116,...</td>\n",
              "      <td>pt</td>\n",
              "      <td>True</td>\n",
              "      <td>Porto Alegre, RS</td>\n",
              "      <td>21/02/2013</td>\n",
              "      <td>None</td>\n",
              "      <td>2</td>\n",
              "      <td>{'name': 'Celeiro', 'address': {'streetAddress...</td>\n",
              "      <td>Celeiro</td>\n",
              "      <td>http://www.celeiroculinaria.com.br</td>\n",
              "      <td>celeiro@celeiroculinaria.com.br</td>\n",
              "      <td>55 21 2274 7843</td>\n",
              "      <td>3.5</td>\n",
              "      <td>Rua Dias Ferreira 199</td>\n",
              "      <td>Rio de Janeiro</td>\n",
              "      <td>Estado do Rio de Janeiro</td>\n",
              "      <td>22431-050</td>\n",
              "      <td>Brasil</td>\n",
              "    </tr>\n",
              "    <tr>\n",
              "      <th>99999</th>\n",
              "      <td>Restaurante excelente</td>\n",
              "      <td>649755498</td>\n",
              "      <td>12433911.0</td>\n",
              "      <td>brunotulio</td>\n",
              "      <td>Experiência fantástica com comida deliciosa e ...</td>\n",
              "      <td>pt</td>\n",
              "      <td>True</td>\n",
              "      <td>Manaus, AM</td>\n",
              "      <td>02/02/2019</td>\n",
              "      <td>02/2019</td>\n",
              "      <td>5</td>\n",
              "      <td>{'name': 'Coco Bambu Manaus', 'address': {'str...</td>\n",
              "      <td>Coco Bambu Manaus</td>\n",
              "      <td>http://www.facebook.com/cocobambumanausoficial/</td>\n",
              "      <td>rh.manaus@cocobambu.com</td>\n",
              "      <td>+55 92 3667-7430</td>\n",
              "      <td>5.0</td>\n",
              "      <td>Avenida Coronel Teixeira, 5705 Ponta Negra, Sh...</td>\n",
              "      <td>Manaus</td>\n",
              "      <td>Rio Amazonas</td>\n",
              "      <td>69037-000</td>\n",
              "      <td>Brasil</td>\n",
              "    </tr>\n",
              "  </tbody>\n",
              "</table>\n",
              "<p>100000 rows × 22 columns</p>\n",
              "</div>"
            ],
            "text/plain": [
              "                                      title  ...  address.country\n",
              "0                                   Jantar   ...           Brasil\n",
              "1                      Uma boa experiência.  ...           Brasil\n",
              "2                        Otimo self service  ...           Brasil\n",
              "3      O sorvete mais tradicional do estado  ...           Brasil\n",
              "4                         Melhor hamburger!  ...           Brasil\n",
              "...                                     ...  ...              ...\n",
              "99995                Nova opção no Paseo!!!  ...           Brasil\n",
              "99996                                   Bom  ...           Brasil\n",
              "99997                               Bom bar  ...           Brasil\n",
              "99998                  Me senti enganada...  ...           Brasil\n",
              "99999                 Restaurante excelente  ...           Brasil\n",
              "\n",
              "[100000 rows x 22 columns]"
            ]
          },
          "metadata": {
            "tags": []
          },
          "execution_count": 16
        }
      ]
    },
    {
      "cell_type": "markdown",
      "metadata": {
        "id": "GfYBVA-uzlHK"
      },
      "source": [
        "**5. Analise da coluna reviewBody**"
      ]
    },
    {
      "cell_type": "code",
      "metadata": {
        "id": "sHSfW9sFzwz0"
      },
      "source": [
        "col_reviewBody = ds_merged['reviewBody'] #cria um dataframe com os dados da coluna em questão"
      ],
      "execution_count": 17,
      "outputs": []
    },
    {
      "cell_type": "code",
      "metadata": {
        "id": "50r7uRhT7vMs"
      },
      "source": [
        "df_reviewBody = pd.DataFrame(col_reviewBody) #transforma a coluna em um dataframe"
      ],
      "execution_count": 18,
      "outputs": []
    },
    {
      "cell_type": "markdown",
      "metadata": {
        "id": "T_qMvUN53qWi"
      },
      "source": [
        "**6. Antes de traduzir foi necessário dividir o dataframe com 100.000 linhas em 4 dataframes de 25.000 linhas cada um, afim de tornar mais rápida a tradução, divindindo-a em 4 máquinas para processamento. A seguir, cada dataframe será convertido para csv para depois formar um dataframe só.**"
      ]
    },
    {
      "cell_type": "code",
      "metadata": {
        "id": "XEtGsb7JnLI-"
      },
      "source": [
        "df_reviewBody_1 = df_reviewBody.iloc[:25000]"
      ],
      "execution_count": 19,
      "outputs": []
    },
    {
      "cell_type": "code",
      "metadata": {
        "id": "m0sEluW9xing"
      },
      "source": [
        "df_reviewBody_t1 = df_reviewBody.iloc[25000:,:]"
      ],
      "execution_count": 20,
      "outputs": []
    },
    {
      "cell_type": "code",
      "metadata": {
        "id": "vkTM6P1otkK7"
      },
      "source": [
        "df_reviewBody_2 = df_reviewBody_t1.iloc[:25000]"
      ],
      "execution_count": 21,
      "outputs": []
    },
    {
      "cell_type": "code",
      "metadata": {
        "id": "8T9C4la_ySpu"
      },
      "source": [
        "df_reviewBody_t2 = df_reviewBody_t1.iloc[25000:,:]"
      ],
      "execution_count": 22,
      "outputs": []
    },
    {
      "cell_type": "code",
      "metadata": {
        "id": "hSQffQsutkox"
      },
      "source": [
        "df_reviewBody_3 = df_reviewBody_t2.iloc[:25000]"
      ],
      "execution_count": 23,
      "outputs": []
    },
    {
      "cell_type": "code",
      "metadata": {
        "id": "p-28x1Lc3M-O"
      },
      "source": [
        "df_reviewBody_t3 = df_reviewBody_t2.iloc[25000:,:]"
      ],
      "execution_count": 24,
      "outputs": []
    },
    {
      "cell_type": "code",
      "metadata": {
        "id": "xV1PofRKtkcY"
      },
      "source": [
        "df_reviewBody_4 = df_reviewBody_t3"
      ],
      "execution_count": 25,
      "outputs": []
    },
    {
      "cell_type": "code",
      "metadata": {
        "id": "vnvR27Ofun4F",
        "outputId": "e2e1d971-dbdd-44f0-ff49-44205411793d",
        "colab": {
          "base_uri": "https://localhost:8080/",
          "height": 419
        }
      },
      "source": [
        "df_reviewBody_1"
      ],
      "execution_count": 26,
      "outputs": [
        {
          "output_type": "execute_result",
          "data": {
            "text/html": [
              "<div>\n",
              "<style scoped>\n",
              "    .dataframe tbody tr th:only-of-type {\n",
              "        vertical-align: middle;\n",
              "    }\n",
              "\n",
              "    .dataframe tbody tr th {\n",
              "        vertical-align: top;\n",
              "    }\n",
              "\n",
              "    .dataframe thead th {\n",
              "        text-align: right;\n",
              "    }\n",
              "</style>\n",
              "<table border=\"1\" class=\"dataframe\">\n",
              "  <thead>\n",
              "    <tr style=\"text-align: right;\">\n",
              "      <th></th>\n",
              "      <th>reviewBody</th>\n",
              "    </tr>\n",
              "  </thead>\n",
              "  <tbody>\n",
              "    <tr>\n",
              "      <th>0</th>\n",
              "      <td>Comida maravilhosa, lugar do verdadeiro chicle...</td>\n",
              "    </tr>\n",
              "    <tr>\n",
              "      <th>1</th>\n",
              "      <td>Comida boa, drinks legais e um ambiente bem ac...</td>\n",
              "    </tr>\n",
              "    <tr>\n",
              "      <th>2</th>\n",
              "      <td>Excelente pra ir com a família! Ótima Comida, ...</td>\n",
              "    </tr>\n",
              "    <tr>\n",
              "      <th>3</th>\n",
              "      <td>Tomo sorvete na Visabor faz mais de 30 anos. S...</td>\n",
              "    </tr>\n",
              "    <tr>\n",
              "      <th>4</th>\n",
              "      <td>O melhor hamburger que já comi! Excelente aten...</td>\n",
              "    </tr>\n",
              "    <tr>\n",
              "      <th>...</th>\n",
              "      <td>...</td>\n",
              "    </tr>\n",
              "    <tr>\n",
              "      <th>24995</th>\n",
              "      <td>Estive no Artè no ultimo dia 08/02. Fui com a ...</td>\n",
              "    </tr>\n",
              "    <tr>\n",
              "      <th>24996</th>\n",
              "      <td>Os sanduíches são realmente maravilhosos, esco...</td>\n",
              "    </tr>\n",
              "    <tr>\n",
              "      <th>24997</th>\n",
              "      <td>Uma das melhores opcoes de natal em massas !! ...</td>\n",
              "    </tr>\n",
              "    <tr>\n",
              "      <th>24998</th>\n",
              "      <td>Embora esteja no shopping o clima é bem agradá...</td>\n",
              "    </tr>\n",
              "    <tr>\n",
              "      <th>24999</th>\n",
              "      <td>O restaurante Nagayama é uma boa opção de jant...</td>\n",
              "    </tr>\n",
              "  </tbody>\n",
              "</table>\n",
              "<p>25000 rows × 1 columns</p>\n",
              "</div>"
            ],
            "text/plain": [
              "                                              reviewBody\n",
              "0      Comida maravilhosa, lugar do verdadeiro chicle...\n",
              "1      Comida boa, drinks legais e um ambiente bem ac...\n",
              "2      Excelente pra ir com a família! Ótima Comida, ...\n",
              "3      Tomo sorvete na Visabor faz mais de 30 anos. S...\n",
              "4      O melhor hamburger que já comi! Excelente aten...\n",
              "...                                                  ...\n",
              "24995  Estive no Artè no ultimo dia 08/02. Fui com a ...\n",
              "24996  Os sanduíches são realmente maravilhosos, esco...\n",
              "24997  Uma das melhores opcoes de natal em massas !! ...\n",
              "24998  Embora esteja no shopping o clima é bem agradá...\n",
              "24999  O restaurante Nagayama é uma boa opção de jant...\n",
              "\n",
              "[25000 rows x 1 columns]"
            ]
          },
          "metadata": {
            "tags": []
          },
          "execution_count": 26
        }
      ]
    },
    {
      "cell_type": "markdown",
      "metadata": {
        "id": "lFvJF9QEm0SX"
      },
      "source": [
        "**7. Tradução dos dataframes**"
      ]
    },
    {
      "cell_type": "markdown",
      "metadata": {
        "id": "5KRH8WBE49fh"
      },
      "source": [
        "7.1 Tradução e exportação para arquivo .CSV do primeiro dataframe **df_reviewBody_1**"
      ]
    },
    {
      "cell_type": "code",
      "metadata": {
        "id": "iao3YIsScrxK"
      },
      "source": [
        "df_reviewBody_4.reset_index(inplace=True)"
      ],
      "execution_count": null,
      "outputs": []
    },
    {
      "cell_type": "code",
      "metadata": {
        "id": "ddTAhYcQZVBH",
        "outputId": "bd74b38c-d271-425c-bba2-f2d1ff64cc25",
        "colab": {
          "base_uri": "https://localhost:8080/",
          "height": 231
        }
      },
      "source": [
        "for index, row in df_reviewBody_4.iterrows():\n",
        "  pt_blob = df_reviewBody_4.iloc[index]['reviewBody']\n",
        "  tradutor = TextBlob(pt_blob)\n",
        "  en_blob = tradutor.translate(from_lang='pt', to='en')\n",
        "  time.sleep(3)\n",
        "  df_reviewBody_4.at[index, str('reviewBody')] = str(en_blob)\n",
        "df_reviewBody_4.to_csv(\"df_reviewBody_1.csv\") #arquivo fica salvo em /content/df_reviewBody_4.csv\n",
        "df_reviewBody_4.head()"
      ],
      "execution_count": 50,
      "outputs": [
        {
          "output_type": "error",
          "ename": "KeyboardInterrupt",
          "evalue": "ignored",
          "traceback": [
            "\u001b[0;31m---------------------------------------------------------------------------\u001b[0m",
            "\u001b[0;31mKeyboardInterrupt\u001b[0m                         Traceback (most recent call last)",
            "\u001b[0;32m<ipython-input-50-cb419d942103>\u001b[0m in \u001b[0;36m<module>\u001b[0;34m()\u001b[0m\n\u001b[1;32m      3\u001b[0m   \u001b[0mtradutor\u001b[0m \u001b[0;34m=\u001b[0m \u001b[0mTextBlob\u001b[0m\u001b[0;34m(\u001b[0m\u001b[0mpt_blob\u001b[0m\u001b[0;34m)\u001b[0m\u001b[0;34m\u001b[0m\u001b[0;34m\u001b[0m\u001b[0m\n\u001b[1;32m      4\u001b[0m   \u001b[0men_blob\u001b[0m \u001b[0;34m=\u001b[0m \u001b[0mtradutor\u001b[0m\u001b[0;34m.\u001b[0m\u001b[0mtranslate\u001b[0m\u001b[0;34m(\u001b[0m\u001b[0mfrom_lang\u001b[0m\u001b[0;34m=\u001b[0m\u001b[0;34m'pt'\u001b[0m\u001b[0;34m,\u001b[0m \u001b[0mto\u001b[0m\u001b[0;34m=\u001b[0m\u001b[0;34m'en'\u001b[0m\u001b[0;34m)\u001b[0m\u001b[0;34m\u001b[0m\u001b[0;34m\u001b[0m\u001b[0m\n\u001b[0;32m----> 5\u001b[0;31m   \u001b[0mtime\u001b[0m\u001b[0;34m.\u001b[0m\u001b[0msleep\u001b[0m\u001b[0;34m(\u001b[0m\u001b[0;36m3\u001b[0m\u001b[0;34m)\u001b[0m\u001b[0;34m\u001b[0m\u001b[0;34m\u001b[0m\u001b[0m\n\u001b[0m\u001b[1;32m      6\u001b[0m   \u001b[0mdf_reviewBody_1\u001b[0m\u001b[0;34m.\u001b[0m\u001b[0mat\u001b[0m\u001b[0;34m[\u001b[0m\u001b[0mindex\u001b[0m\u001b[0;34m,\u001b[0m \u001b[0mstr\u001b[0m\u001b[0;34m(\u001b[0m\u001b[0;34m'reviewBody'\u001b[0m\u001b[0;34m)\u001b[0m\u001b[0;34m]\u001b[0m \u001b[0;34m=\u001b[0m \u001b[0mstr\u001b[0m\u001b[0;34m(\u001b[0m\u001b[0men_blob\u001b[0m\u001b[0;34m)\u001b[0m\u001b[0;34m\u001b[0m\u001b[0;34m\u001b[0m\u001b[0m\n\u001b[1;32m      7\u001b[0m \u001b[0mdf_reviewBody_1\u001b[0m\u001b[0;34m.\u001b[0m\u001b[0mto_csv\u001b[0m\u001b[0;34m(\u001b[0m\u001b[0;34m\"df_reviewBody_1.csv\"\u001b[0m\u001b[0;34m)\u001b[0m \u001b[0;31m#arquivo fica salvo em /content/df_reviewBody_1.csv\u001b[0m\u001b[0;34m\u001b[0m\u001b[0;34m\u001b[0m\u001b[0m\n",
            "\u001b[0;31mKeyboardInterrupt\u001b[0m: "
          ]
        }
      ]
    }
  ]
}